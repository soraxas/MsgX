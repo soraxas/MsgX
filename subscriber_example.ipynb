{
 "cells": [
  {
   "cell_type": "code",
   "execution_count": 2,
   "id": "f77e15d5",
   "metadata": {},
   "outputs": [],
   "source": [
    "# if you haven't install the package globally, you can simply insert the path as follows\n",
    "import sys\n",
    "sys.path.insert(0, \"built_python_pkg\")"
   ]
  },
  {
   "cell_type": "code",
   "execution_count": 3,
   "id": "resident-jamaica",
   "metadata": {},
   "outputs": [],
   "source": [
    "from cpp2py_plotly import Cpp2PyPlotly\n",
    "\n",
    "import plotly\n",
    "import plotly.graph_objs as go"
   ]
  },
  {
   "cell_type": "code",
   "execution_count": 4,
   "id": "premier-wales",
   "metadata": {
    "scrolled": false
   },
   "outputs": [
    {
     "data": {
      "application/vnd.jupyter.widget-view+json": {
       "model_id": "c6813ef3c2b146ccb94f532f2cf629da",
       "version_major": 2,
       "version_minor": 0
      },
      "text/plain": [
       "Tab(children=(VBox(children=(HBox(children=(Button(description='Refresh', icon='retweet', style=ButtonStyle(),…"
      ]
     },
     "metadata": {},
     "output_type": "display_data"
    },
    {
     "data": {
      "application/vnd.jupyter.widget-view+json": {
       "model_id": "007880d10df0409fa9fed0be26f37a27",
       "version_major": 2,
       "version_minor": 0
      },
      "text/plain": [
       "interactive(children=(Dropdown(description='Show Fig', options=(), value=None), Output()), _dom_classes=('widg…"
      ]
     },
     "metadata": {},
     "output_type": "display_data"
    }
   ],
   "source": [
    "cpp2py_plotly = Cpp2PyPlotly()\n",
    "cpp2py_plotly.display_ipywidget_single_fig()\n",
    "\n",
    "cpp2py_plotly.spin_async()"
   ]
  },
  {
   "cell_type": "code",
   "execution_count": 3,
   "id": "historic-chapter",
   "metadata": {},
   "outputs": [
    {
     "data": {
      "application/vnd.jupyter.widget-view+json": {
       "model_id": "70d731ea53cd467abd0a112dc8a67846",
       "version_major": 2,
       "version_minor": 0
      },
      "text/plain": [
       "Tab(children=(VBox(children=(HBox(children=(Button(description='Refresh', icon='retweet', style=ButtonStyle(),…"
      ]
     },
     "metadata": {},
     "output_type": "display_data"
    },
    {
     "data": {
      "application/vnd.jupyter.widget-view+json": {
       "model_id": "41be5e997d364973892e049eebf241c1",
       "version_major": 2,
       "version_minor": 0
      },
      "text/plain": [
       "interactive(children=(SelectMultiple(description='Multi Fig(s)', options=(), value=()), Output()), _dom_classe…"
      ]
     },
     "metadata": {},
     "output_type": "display_data"
    }
   ],
   "source": [
    "cpp2py_plotly.display_ipywidget_multi_figs()"
   ]
  },
  {
   "cell_type": "code",
   "execution_count": 4,
   "id": "advised-burns",
   "metadata": {},
   "outputs": [
    {
     "data": {
      "text/plain": [
       "{}"
      ]
     },
     "execution_count": 4,
     "metadata": {},
     "output_type": "execute_result"
    }
   ],
   "source": [
    "# show all stored figures\n",
    "cpp2py_plotly.stored_figs"
   ]
  }
 ],
 "metadata": {
  "kernelspec": {
   "display_name": "Python [conda env:res37]",
   "language": "python",
   "name": "conda-env-res37-py"
  },
  "language_info": {
   "codemirror_mode": {
    "name": "ipython",
    "version": 3
   },
   "file_extension": ".py",
   "mimetype": "text/x-python",
   "name": "python",
   "nbconvert_exporter": "python",
   "pygments_lexer": "ipython3",
   "version": "3.9.7"
  }
 },
 "nbformat": 4,
 "nbformat_minor": 5
}
