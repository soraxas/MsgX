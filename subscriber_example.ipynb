{
 "cells": [
  {
   "cell_type": "code",
   "execution_count": 1,
   "id": "f77e15d5",
   "metadata": {},
   "outputs": [],
   "source": [
    "# if you haven't install the package globally, you can simply insert the path as follows\n",
    "import sys\n",
    "sys.path.insert(0, \"built_python_pkg\")"
   ]
  },
  {
   "cell_type": "code",
   "execution_count": 2,
   "id": "resident-jamaica",
   "metadata": {},
   "outputs": [],
   "source": [
    "from plotmsg_dash import PlotMsgPlotly\n",
    "\n",
    "import plotly\n",
    "import plotly.graph_objs as go"
   ]
  },
  {
   "cell_type": "code",
   "execution_count": 3,
   "id": "premier-wales",
   "metadata": {
    "scrolled": false
   },
   "outputs": [
    {
     "data": {
      "application/vnd.jupyter.widget-view+json": {
       "model_id": "8a9ae2c8c9de42a99cd5dcef8cfa6e2b",
       "version_major": 2,
       "version_minor": 0
      },
      "text/plain": [
       "Tab(children=(VBox(children=(HBox(children=(Button(description='Refresh', icon='retweet', style=ButtonStyle(),…"
      ]
     },
     "metadata": {},
     "output_type": "display_data"
    },
    {
     "data": {
      "application/vnd.jupyter.widget-view+json": {
       "model_id": "2ba083dc24ab4e31b05a6c8538d91416",
       "version_major": 2,
       "version_minor": 0
      },
      "text/plain": [
       "interactive(children=(Dropdown(description='Show Fig', options=(), value=None), Output()), _dom_classes=('widg…"
      ]
     },
     "metadata": {},
     "output_type": "display_data"
    }
   ],
   "source": [
    "p_msg = PlotMsgPlotly()\n",
    "p_msg.display_ipywidget_single_fig()\n",
    "\n",
    "p_msg.spin_async()"
   ]
  },
  {
   "cell_type": "code",
   "execution_count": 4,
   "id": "historic-chapter",
   "metadata": {},
   "outputs": [
    {
     "data": {
      "application/vnd.jupyter.widget-view+json": {
       "model_id": "8a9ae2c8c9de42a99cd5dcef8cfa6e2b",
       "version_major": 2,
       "version_minor": 0
      },
      "text/plain": [
       "Tab(children=(VBox(children=(HBox(children=(Button(description='Refresh', icon='retweet', style=ButtonStyle(),…"
      ]
     },
     "metadata": {},
     "output_type": "display_data"
    },
    {
     "data": {
      "application/vnd.jupyter.widget-view+json": {
       "model_id": "7f555bff62164460b3bece45a522f294",
       "version_major": 2,
       "version_minor": 0
      },
      "text/plain": [
       "interactive(children=(SelectMultiple(description='Multi Fig(s)', options=(), value=()), Output()), _dom_classe…"
      ]
     },
     "metadata": {},
     "output_type": "display_data"
    }
   ],
   "source": [
    "p_msg.display_ipywidget_multi_figs()"
   ]
  },
  {
   "cell_type": "code",
   "execution_count": 5,
   "id": "advised-burns",
   "metadata": {},
   "outputs": [
    {
     "data": {
      "text/plain": [
       "{}"
      ]
     },
     "execution_count": 5,
     "metadata": {},
     "output_type": "execute_result"
    }
   ],
   "source": [
    "# show all stored figures\n",
    "p_msg.stored_figs"
   ]
  }
 ],
 "metadata": {
  "kernelspec": {
   "display_name": "Python 3 (ipykernel)",
   "language": "python",
   "name": "python3"
  },
  "language_info": {
   "codemirror_mode": {
    "name": "ipython",
    "version": 3
   },
   "file_extension": ".py",
   "mimetype": "text/x-python",
   "name": "python",
   "nbconvert_exporter": "python",
   "pygments_lexer": "ipython3",
   "version": "3.10.5"
  }
 },
 "nbformat": 4,
 "nbformat_minor": 5
}
