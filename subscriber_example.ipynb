{
 "cells": [
  {
   "cell_type": "code",
   "execution_count": 1,
   "id": "crazy-alarm",
   "metadata": {},
   "outputs": [],
   "source": [
    "%load_ext autoreload\n",
    "%autoreload 2"
   ]
  },
  {
   "cell_type": "code",
   "execution_count": 2,
   "id": "resident-jamaica",
   "metadata": {},
   "outputs": [],
   "source": [
    "from scripts.cpp2py_pyplot import Cpp2PyPlotly"
   ]
  },
  {
   "cell_type": "code",
   "execution_count": 3,
   "id": "premier-wales",
   "metadata": {
    "scrolled": false
   },
   "outputs": [
    {
     "data": {
      "application/vnd.jupyter.widget-view+json": {
       "model_id": "2fdd89017496405092e7f10bd964b7cf",
       "version_major": 2,
       "version_minor": 0
      },
      "text/plain": [
       "HBox(children=(Button(description='Refresh', icon='retweet', style=ButtonStyle(), tooltip='Process plotly inco…"
      ]
     },
     "metadata": {},
     "output_type": "display_data"
    },
    {
     "data": {
      "application/vnd.jupyter.widget-view+json": {
       "model_id": "c32deabf48cf45759084b5de32a1555f",
       "version_major": 2,
       "version_minor": 0
      },
      "text/plain": [
       "interactive(children=(Dropdown(description='Show Fig', options=(), value=None), Output()), _dom_classes=('widg…"
      ]
     },
     "metadata": {},
     "output_type": "display_data"
    },
    {
     "data": {
      "application/vnd.jupyter.widget-view+json": {
       "model_id": "fb7f841d057d4d848f27b8ab27981dac",
       "version_major": 2,
       "version_minor": 0
      },
      "text/plain": [
       "Output(layout=Layout(border='1px solid black'))"
      ]
     },
     "metadata": {},
     "output_type": "display_data"
    }
   ],
   "source": [
    "cpp2py_plotly = Cpp2PyPlotly()\n",
    "cpp2py_plotly.display_ipywidget_single_fig()\n",
    "\n",
    "cpp2py_plotly.spin_async()"
   ]
  },
  {
   "cell_type": "code",
   "execution_count": 4,
   "id": "historic-chapter",
   "metadata": {},
   "outputs": [
    {
     "data": {
      "application/vnd.jupyter.widget-view+json": {
       "model_id": "2fdd89017496405092e7f10bd964b7cf",
       "version_major": 2,
       "version_minor": 0
      },
      "text/plain": [
       "HBox(children=(Button(description='Refresh', icon='retweet', style=ButtonStyle(), tooltip='Process plotly inco…"
      ]
     },
     "metadata": {},
     "output_type": "display_data"
    },
    {
     "data": {
      "application/vnd.jupyter.widget-view+json": {
       "model_id": "5d708c897e804b08b0e1a362803230f4",
       "version_major": 2,
       "version_minor": 0
      },
      "text/plain": [
       "interactive(children=(SelectMultiple(description='Multi Fig(s)', options=(), value=()), Output()), _dom_classe…"
      ]
     },
     "metadata": {},
     "output_type": "display_data"
    }
   ],
   "source": [
    "cpp2py_plotly.display_ipywidget_multi_figs()"
   ]
  },
  {
   "cell_type": "code",
   "execution_count": 5,
   "id": "advised-burns",
   "metadata": {},
   "outputs": [
    {
     "data": {
      "text/plain": [
       "{'test_1': FigureWidget({\n",
       "     'data': [{'marker': {'color': array([ 3,  4,  5,  6,  7,  8,  9, 10, 11, 12, 13, 14, 15, 16, 17, 18, 19, 20,\n",
       "                                          21, 22]),\n",
       "                          'colorbar': {'title': {'text': 'Colorbar'}},\n",
       "                          'colorscale': [[0.0, '#440154'], [0.1111111111111111,\n",
       "                                         '#482878'], [0.2222222222222222,\n",
       "                                         '#3e4989'], [0.3333333333333333,\n",
       "                                         '#31688e'], [0.4444444444444444,\n",
       "                                         '#26828e'], [0.5555555555555556,\n",
       "                                         '#1f9e89'], [0.6666666666666666,\n",
       "                                         '#35b779'], [0.7777777777777778,\n",
       "                                         '#6ece58'], [0.8888888888888888,\n",
       "                                         '#b5de2b'], [1.0, '#fde725']],\n",
       "                          'opacity': 0.5,\n",
       "                          'size': 14},\n",
       "               'mode': 'markers',\n",
       "               'type': 'scatter',\n",
       "               'uid': '8f8df98d-7cba-4abe-a489-dbe4e566bdf8',\n",
       "               'x': array([ 0.,  1.,  2.,  3.,  4.,  5.,  6.,  7.,  8.,  9., 10., 11., 12., 13.,\n",
       "                           14., 15., 16., 17., 18., 19.]),\n",
       "               'y': array([ 5.,  6.,  7.,  8.,  9., 10., 11., 12., 13., 14., 15., 16., 17., 18.,\n",
       "                           19., 20., 21., 22., 23., 24.])}],\n",
       "     'layout': {'template': '...'}\n",
       " })}"
      ]
     },
     "execution_count": 5,
     "metadata": {},
     "output_type": "execute_result"
    }
   ],
   "source": [
    "# show all stored figures\n",
    "cpp2py_plotly.stored_figs"
   ]
  },
  {
   "cell_type": "code",
   "execution_count": null,
   "id": "abstract-hollow",
   "metadata": {},
   "outputs": [],
   "source": []
  }
 ],
 "metadata": {
  "kernelspec": {
   "display_name": "Python 3",
   "language": "python",
   "name": "python3"
  },
  "language_info": {
   "codemirror_mode": {
    "name": "ipython",
    "version": 3
   },
   "file_extension": ".py",
   "mimetype": "text/x-python",
   "name": "python",
   "nbconvert_exporter": "python",
   "pygments_lexer": "ipython3",
   "version": "3.7.0"
  }
 },
 "nbformat": 4,
 "nbformat_minor": 5
}
